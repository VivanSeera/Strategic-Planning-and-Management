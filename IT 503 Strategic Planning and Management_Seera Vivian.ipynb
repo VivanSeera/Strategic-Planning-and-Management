{
 "cells": [
  {
   "cell_type": "code",
   "execution_count": 1,
   "id": "excess-puppy",
   "metadata": {
    "scrolled": true
   },
   "outputs": [
    {
     "name": "stdout",
     "output_type": "stream",
     "text": [
      "Requirement already satisfied: seaborn in /srv/conda/envs/notebook/lib/python3.6/site-packages (0.11.1)\n",
      "Requirement already satisfied: matplotlib>=2.2 in /srv/conda/envs/notebook/lib/python3.6/site-packages (from seaborn) (3.3.4)\n",
      "Requirement already satisfied: scipy>=1.0 in /srv/conda/envs/notebook/lib/python3.6/site-packages (from seaborn) (1.5.3)\n",
      "Requirement already satisfied: numpy>=1.15 in /srv/conda/envs/notebook/lib/python3.6/site-packages (from seaborn) (1.19.5)\n",
      "Requirement already satisfied: pandas>=0.23 in /srv/conda/envs/notebook/lib/python3.6/site-packages (from seaborn) (1.1.5)\n",
      "Requirement already satisfied: kiwisolver>=1.0.1 in /srv/conda/envs/notebook/lib/python3.6/site-packages (from matplotlib>=2.2->seaborn) (1.3.1)\n",
      "Requirement already satisfied: python-dateutil>=2.1 in /srv/conda/envs/notebook/lib/python3.6/site-packages (from matplotlib>=2.2->seaborn) (2.8.1)\n",
      "Requirement already satisfied: pillow>=6.2.0 in /srv/conda/envs/notebook/lib/python3.6/site-packages (from matplotlib>=2.2->seaborn) (8.2.0)\n",
      "Requirement already satisfied: cycler>=0.10 in /srv/conda/envs/notebook/lib/python3.6/site-packages/cycler-0.10.0-py3.6.egg (from matplotlib>=2.2->seaborn) (0.10.0)\n",
      "Requirement already satisfied: pyparsing!=2.0.4,!=2.1.2,!=2.1.6,>=2.0.3 in /srv/conda/envs/notebook/lib/python3.6/site-packages (from matplotlib>=2.2->seaborn) (2.4.7)\n",
      "Requirement already satisfied: six in /srv/conda/envs/notebook/lib/python3.6/site-packages (from cycler>=0.10->matplotlib>=2.2->seaborn) (1.15.0)\n",
      "Requirement already satisfied: pytz>=2017.2 in /srv/conda/envs/notebook/lib/python3.6/site-packages (from pandas>=0.23->seaborn) (2021.1)\n"
     ]
    }
   ],
   "source": [
    "#importing libraries\n",
    "! pip install seaborn\n",
    "import pandas as pd\n",
    "import matplotlib.pyplot as plt\n",
    "import numpy as np\n",
    "import seaborn as sns\n",
    "from sklearn.pipeline import Pipeline\n",
    "from sklearn.preprocessing import StandardScaler,PolynomialFeatures\n",
    "%matplotlib inline"
   ]
  },
  {
   "cell_type": "code",
   "execution_count": null,
   "id": "considered-timer",
   "metadata": {},
   "outputs": [
    {
     "name": "stdout",
     "output_type": "stream",
     "text": [
      "Collecting package metadata (current_repodata.json): | "
     ]
    }
   ],
   "source": [
    "conda install -y lxml"
   ]
  },
  {
   "cell_type": "code",
   "execution_count": null,
   "id": "infectious-lobby",
   "metadata": {},
   "outputs": [],
   "source": [
    "file=pd.read_csv(\"WHO COVID-19 global table data July 11th 2021 at 4.18.45 PM.csv\",sep=\",\")"
   ]
  },
  {
   "cell_type": "code",
   "execution_count": null,
   "id": "intelligent-survivor",
   "metadata": {
    "scrolled": true
   },
   "outputs": [],
   "source": [
    "#file rows\n",
    "file.head()"
   ]
  },
  {
   "cell_type": "code",
   "execution_count": null,
   "id": "cutting-meditation",
   "metadata": {
    "scrolled": true
   },
   "outputs": [],
   "source": [
    "#file rows\n",
    "file.tail()"
   ]
  },
  {
   "cell_type": "markdown",
   "id": "transsexual-saint",
   "metadata": {},
   "source": [
    "Sorting out Africa data only"
   ]
  },
  {
   "cell_type": "code",
   "execution_count": null,
   "id": "smart-punishment",
   "metadata": {},
   "outputs": [],
   "source": [
    "#Only Africa data\n",
    "new_file=file.loc[(file[\"WHO Region\"]==\"Africa\")]"
   ]
  },
  {
   "cell_type": "code",
   "execution_count": null,
   "id": "altered-butterfly",
   "metadata": {
    "scrolled": true
   },
   "outputs": [],
   "source": [
    "#file rows\n",
    "new_file.head()"
   ]
  },
  {
   "cell_type": "code",
   "execution_count": null,
   "id": "intended-whale",
   "metadata": {},
   "outputs": [],
   "source": [
    "#file tails\n",
    "new_file.tail()"
   ]
  },
  {
   "cell_type": "code",
   "execution_count": null,
   "id": "expensive-government",
   "metadata": {},
   "outputs": [],
   "source": [
    "#load file\n",
    "#Renaming some columns to make it easy to read' \n",
    "new_file.rename(columns = {'Name':'Country','Cases - cumulative total':'Cases(Cum.Total)', \n",
    "                         'Cases - cumulative total per 100000 population':'Cases(Cum.Total)per 100000 population', \n",
    "                         'Cases - newly reported in last 7 days':'Cases(last 7 days)', \n",
    "                         'Cases - newly reported in last 7 days per 100000 population':'Cases(last 7 days)per 100000 population', \n",
    "                         'Cases - newly reported in last 24 hours':'Cases(last 24 hours)', \n",
    "                         'Deaths - cumulative total':'Deaths(Cum.Total)','Deaths - cumulative total per 100000 population':\n",
    "                         'Deaths(Cum.Total) per 100000 population', 'Deaths reported in last 7 days':\n",
    "                         'Deaths(last 7 days)','Deaths - newly reported in last 7 days per 100000 population':\n",
    "                         'Deaths(last 7 days)per 100000 population','Deaths - newly reported in last 24 hours':\n",
    "                         'Deaths(last 24 hours)'}, inplace = True)\n",
    "\n"
   ]
  },
  {
   "cell_type": "code",
   "execution_count": null,
   "id": "cultural-valley",
   "metadata": {},
   "outputs": [],
   "source": [
    "#data set summary\n",
    "new_file.info()"
   ]
  },
  {
   "cell_type": "code",
   "execution_count": null,
   "id": "equipped-token",
   "metadata": {},
   "outputs": [],
   "source": [
    "#number of countries in Africa's region \n",
    "new_file[\"WHO Region\"].value_counts().to_frame()"
   ]
  },
  {
   "cell_type": "code",
   "execution_count": null,
   "id": "mexican-pierce",
   "metadata": {
    "scrolled": true
   },
   "outputs": [],
   "source": [
    "#dataset description\n",
    "new_file.describe()"
   ]
  },
  {
   "cell_type": "code",
   "execution_count": null,
   "id": "detailed-ministry",
   "metadata": {},
   "outputs": [],
   "source": [
    "new_file.shape"
   ]
  },
  {
   "cell_type": "code",
   "execution_count": null,
   "id": "laughing-insertion",
   "metadata": {
    "scrolled": true
   },
   "outputs": [],
   "source": [
    "#transmission classification\n",
    "new_file[\"Transmission Classification\"].value_counts().to_frame()"
   ]
  },
  {
   "cell_type": "code",
   "execution_count": null,
   "id": "toxic-printer",
   "metadata": {},
   "outputs": [],
   "source": [
    "#country with highest number of deaths reported in the last 24hrs against transmission classification\n",
    "death_24hrs=new_file[['Country','Deaths(last 24 hours)']]\n",
    "highdeath_24hrs = death_24hrs.sort_values(by=['Deaths(last 24 hours)'], ascending= False)\n",
    "# a. check first \n",
    "highdeath_24hrs.head()"
   ]
  },
  {
   "cell_type": "code",
   "execution_count": null,
   "id": "foreign-great",
   "metadata": {},
   "outputs": [],
   "source": [
    "#country with highest number of deaths reported in the last 24hrs against transmission classification\n",
    "#death_24hrs=new_file[['Country','Deaths(last 24 hours)']]\n",
    "#highdeath_24hrs = death_24hrs.sort_values(by=['Deaths(last 24 hours)'], ascending= False)\n",
    "# a. check first \n",
    "#highdeath_24hrs.head()"
   ]
  },
  {
   "cell_type": "markdown",
   "id": "fossil-spending",
   "metadata": {},
   "source": [
    ".Pearson Correlation"
   ]
  },
  {
   "cell_type": "code",
   "execution_count": null,
   "id": "pharmaceutical-haiti",
   "metadata": {},
   "outputs": [],
   "source": [
    "new_file.corr()"
   ]
  },
  {
   "cell_type": "code",
   "execution_count": null,
   "id": "thick-violence",
   "metadata": {},
   "outputs": [],
   "source": [
    "new_file[['Cases(last 7 days)','Deaths - newly reported in last 7 days']].corr()"
   ]
  },
  {
   "cell_type": "code",
   "execution_count": null,
   "id": "restricted-complaint",
   "metadata": {},
   "outputs": [],
   "source": [
    "# generate related variables\n",
    "#data1=cases in last 7days,std=130.211952,mean=4279.780000\n",
    "#data2=deaths in last 24 hours, std=65.9015,mean =14.8200\n",
    "\n",
    "from numpy import mean\n",
    "from numpy import std\n",
    "from numpy.random import randn\n",
    "from numpy.random import seed\n",
    "from matplotlib import pyplot\n",
    "# seed random number generator\n",
    "seed(1)\n",
    "# prepare data\n",
    "data1 = 130.211952 * randn(50) + 4279.780000\n",
    "data2 = data1 + (65.9015 * randn(50) + 14.8200)\n",
    "# summarize\n",
    "print('data1: mean=%.3f stdv=%.3f' % (mean(data1), std(data1)))\n",
    "print('data2: mean=%.3f stdv=%.3f' % (mean(data2), std(data2)))\n",
    "# plot\n",
    "pyplot.scatter(data1, data2)\n",
    "pyplot.show()"
   ]
  },
  {
   "cell_type": "code",
   "execution_count": null,
   "id": "greenhouse-purchase",
   "metadata": {},
   "outputs": [],
   "source": [
    "# calculate the Pearson's correlation between two variables\n",
    "from numpy.random import randn\n",
    "from numpy.random import seed\n",
    "from scipy.stats import pearsonr\n",
    "# seed random number generator\n",
    "seed(1)\n",
    "# prepare data\n",
    "data1 = 130.211952 * randn(50) + 4279.780000\n",
    "data2 = data1 + (65.9015 * randn(50) + 14.8200)\n",
    "# calculate Pearson's correlation\n",
    "corr, _ = pearsonr(data1, data2)\n",
    "print('Pearsons correlation: %.3f' % corr)"
   ]
  },
  {
   "cell_type": "markdown",
   "id": "plastic-banks",
   "metadata": {},
   "source": [
    ".Covariance"
   ]
  },
  {
   "cell_type": "markdown",
   "id": "dedicated-indiana",
   "metadata": {},
   "source": [
    "The calculation of the sample covariance is as follows: cov(X, Y) = (sum (x - mean(X)) * (y - mean(Y)) ) * 1/(n-1)"
   ]
  },
  {
   "cell_type": "code",
   "execution_count": null,
   "id": "alert-reynolds",
   "metadata": {},
   "outputs": [],
   "source": [
    "np. cov(data1, data2)"
   ]
  },
  {
   "cell_type": "markdown",
   "id": "adaptive-history",
   "metadata": {},
   "source": [
    "Model Formular;"
   ]
  },
  {
   "cell_type": "code",
   "execution_count": null,
   "id": "incident-israel",
   "metadata": {},
   "outputs": [],
   "source": [
    "# calculate the covariance between two variables\n",
    "from numpy.random import randn\n",
    "from numpy.random import seed\n",
    "from numpy import cov\n",
    "# seed random number generator\n",
    "seed(1)\n",
    "# prepare data\n",
    "data1 = 13082.564441 * randn(50) + 3215.760000\n",
    "data2 = data1 + (25.245642 * randn(50) + 8.380000)\n",
    "# calculate covariance matrix\n",
    "covariance = cov(data1, data2)\n",
    "print(covariance)"
   ]
  },
  {
   "cell_type": "code",
   "execution_count": null,
   "id": "random-routine",
   "metadata": {},
   "outputs": [],
   "source": [
    "# calculate the covariance between two variables\n",
    "from numpy.random import randn\n",
    "from numpy.random import seed\n",
    "from numpy import cov\n",
    "# seed random number generator\n",
    "seed(1)\n",
    "# prepare data\n",
    "data1 = 13082.564441 * randn(50) + 3215.760000\n",
    "data2 = data1 + (25.245642 * randn(50) + 8.380000)\n",
    "# calculate covariance matrix\n",
    "covariance = cov(data1, data2)\n",
    "print(covariance)"
   ]
  },
  {
   "cell_type": "code",
   "execution_count": null,
   "id": "regulation-celebrity",
   "metadata": {},
   "outputs": [],
   "source": [
    "# calculate the Pearson's correlation between two variables\n",
    "from numpy.random import randn\n",
    "from numpy.random import seed\n",
    "from scipy.stats import pearsonr\n",
    "# seed random number generator\n",
    "seed(1)\n",
    "# prepare data\n",
    "data1 = 13082.564441 * randn(50) + 3215.760000\n",
    "data2 = data1 + (25.245642 * randn(50) + 8.380000)\n",
    "# calculate Pearson's correlation\n",
    "corr, _ = pearsonr(data1, data2)\n",
    "print('Pearsons correlation: %.3f' % corr)"
   ]
  },
  {
   "cell_type": "markdown",
   "id": "cardiovascular-mason",
   "metadata": {},
   "source": [
    "Decision Tree Classifier"
   ]
  },
  {
   "cell_type": "markdown",
   "id": "several-shame",
   "metadata": {},
   "source": [
    "\n",
    "\n",
    "Importing Required Libraries\n"
   ]
  },
  {
   "cell_type": "code",
   "execution_count": null,
   "id": "convenient-friday",
   "metadata": {},
   "outputs": [],
   "source": [
    "# Load libraries\n",
    "import pandas as pd\n",
    "from sklearn.tree import DecisionTreeClassifier # Import Decision Tree Classifier\n",
    "from sklearn.model_selection import train_test_split # Import train_test_split function\n",
    "from sklearn import metrics #Import scikit-learn metrics module for accuracy calculation"
   ]
  },
  {
   "cell_type": "code",
   "execution_count": null,
   "id": "average-liver",
   "metadata": {},
   "outputs": [],
   "source": [
    "import requests\n",
    "import lxml.html as lh\n",
    "import pandas as pd"
   ]
  },
  {
   "cell_type": "code",
   "execution_count": null,
   "id": "extended-hughes",
   "metadata": {},
   "outputs": [],
   "source": [
    "WHO_url = 'https://www.ecdc.europa.eu/en/geographical-distribution-2019-ncov-cases' #assign the wiki page\n",
    "#WHO_url = 'https://data.humdata.org/dataset/novel-coronavirus-2019-ncov-cases'\n",
    "\n",
    "page = requests.get(WHO_url) # create a handle for contents of the wiki page\n",
    "\n",
    "doc = lh.fromstring(page.content) # store content of the wiki page under doc\n",
    "\n",
    "tr_elements = doc.xpath('//tr') # parse data stored between tr in the html\n",
    "\n",
    "[len(T) for T in tr_elements[:12]] # check the length of the first 12 rows"
   ]
  },
  {
   "cell_type": "markdown",
   "id": "optical-locator",
   "metadata": {},
   "source": [
    ".Checking table headers"
   ]
  },
  {
   "cell_type": "code",
   "execution_count": null,
   "id": "golden-virus",
   "metadata": {},
   "outputs": [],
   "source": [
    "tr_elements = doc.xpath('//tr') # parse first row as header\n",
    "\n",
    "col = [] # create empty list\n",
    "i = 0\n",
    "\n",
    "for t in tr_elements[0]: # for each row, store each first element (header) and an empty list\n",
    "    i+=1\n",
    "    name=t.text_content()\n",
    "    print(\"%d:%s\" % (i,name))\n",
    "    col.append((name,[]))"
   ]
  },
  {
   "cell_type": "markdown",
   "id": "experienced-booth",
   "metadata": {},
   "source": [
    ".Numbers of rows and columns"
   ]
  },
  {
   "cell_type": "code",
   "execution_count": null,
   "id": "reliable-hydrogen",
   "metadata": {},
   "outputs": [],
   "source": [
    "[len(C) for (title,C) in col]"
   ]
  },
  {
   "cell_type": "markdown",
   "id": "unusual-consent",
   "metadata": {},
   "source": [
    ".Data Cleaning"
   ]
  },
  {
   "cell_type": "code",
   "execution_count": null,
   "id": "unusual-governor",
   "metadata": {},
   "outputs": [],
   "source": [
    "import pandas as pd\n",
    "import numpy as np"
   ]
  },
  {
   "cell_type": "code",
   "execution_count": null,
   "id": "whole-drawing",
   "metadata": {},
   "outputs": [],
   "source": [
    "conda install -c anaconda seaborn -y\n",
    "import pandas as pd\n",
    "import matplotlib.pyplot as plt\n",
    "import numpy as np\n",
    "import seaborn as sns\n",
    "import matplotlib.pyplot as plt\n",
    "from sklearn.pipeline import Pipeline\n",
    "from sklearn.preprocessing import StandardScaler,PolynomialFeatures\n",
    "%matplotlib inline"
   ]
  },
  {
   "cell_type": "markdown",
   "id": "confidential-provision",
   "metadata": {},
   "source": [
    "Seera Vivian\n",
    "Post Graduate in Information Tecnology\n",
    "Registration Number: May21/PGD-IT/578U\n",
    "M21.IT 503 IT Strategic Planning & Management"
   ]
  }
 ],
 "metadata": {
  "kernelspec": {
   "display_name": "Python 3",
   "language": "python",
   "name": "python3"
  },
  "language_info": {
   "codemirror_mode": {
    "name": "ipython",
    "version": 3
   },
   "file_extension": ".py",
   "mimetype": "text/x-python",
   "name": "python",
   "nbconvert_exporter": "python",
   "pygments_lexer": "ipython3",
   "version": "3.6.13"
  }
 },
 "nbformat": 4,
 "nbformat_minor": 5
}
